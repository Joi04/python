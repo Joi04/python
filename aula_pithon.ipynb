{
  "nbformat": 4,
  "nbformat_minor": 0,
  "metadata": {
    "colab": {
      "provenance": [],
      "authorship_tag": "ABX9TyNDEJEYOa8IzYaxWJIzo/Wj",
      "include_colab_link": true
    },
    "kernelspec": {
      "name": "python3",
      "display_name": "Python 3"
    },
    "language_info": {
      "name": "python"
    }
  },
  "cells": [
    {
      "cell_type": "markdown",
      "metadata": {
        "id": "view-in-github",
        "colab_type": "text"
      },
      "source": [
        "<a href=\"https://colab.research.google.com/github/Joi04/python/blob/main/aula_pithon.ipynb\" target=\"_parent\"><img src=\"https://colab.research.google.com/assets/colab-badge.svg\" alt=\"Open In Colab\"/></a>"
      ]
    },
    {
      "cell_type": "markdown",
      "source": [
        "# **Aula 1** ❤"
      ],
      "metadata": {
        "id": "SNU9SYDAzOqx"
      }
    },
    {
      "cell_type": "code",
      "execution_count": null,
      "metadata": {
        "colab": {
          "base_uri": "https://localhost:8080/"
        },
        "id": "1sGRBCE7yIuF",
        "outputId": "f158cf32-de4b-466d-e8d7-185b12f02baf"
      },
      "outputs": [
        {
          "output_type": "stream",
          "name": "stdout",
          "text": [
            "I competição de programação dá Start\n",
            "IX competição de programação da Start\n",
            "IX competição de programação da Start\n"
          ]
        }
      ],
      "source": [
        "print(\"I competição de programação dá Start\")\n",
        "ano = \"IX\"\n",
        "print(ano, \"competição de programação da Start\")\n",
        "print(f\"{ano} competição de programação da Start\")"
      ]
    },
    {
      "cell_type": "markdown",
      "source": [
        "#Aula 2 ♣ ⚡"
      ],
      "metadata": {
        "id": "Qj5XiMD605Mk"
      }
    },
    {
      "cell_type": "code",
      "source": [
        "livro_ficcao = 8\n",
        "livro_n_ficcao = 10\n",
        "livro_infantil = 6\n",
        "pontos_rodrigo = livro_ficcao + livro_n_ficcao + livro_infantil\n",
        "print(f\"Os pontos totais do Rodrigo são {pontos_rodrigo}\")"
      ],
      "metadata": {
        "colab": {
          "base_uri": "https://localhost:8080/"
        },
        "id": "aNpVQDoX09dx",
        "outputId": "11ba5dc9-ea7a-4e46-ee0d-a143e4b0b962"
      },
      "execution_count": null,
      "outputs": [
        {
          "output_type": "stream",
          "name": "stdout",
          "text": [
            "Os pontos totais do Rodrigo são 24\n"
          ]
        }
      ]
    },
    {
      "cell_type": "code",
      "source": [],
      "metadata": {
        "id": "-rs9NvviyQ2K"
      },
      "execution_count": null,
      "outputs": []
    },
    {
      "cell_type": "markdown",
      "source": [
        "#Aula 3 ❤ ♣ ❣"
      ],
      "metadata": {
        "id": "4uypZMk9yVTA"
      }
    },
    {
      "cell_type": "code",
      "source": [
        "numero_de_alunos = int(input(\"Digite a quantidade de alunos: \"))\n",
        "numero_de_monitores = int(input(\"Digite a quantidade de monitores: \"))\n",
        "numero_de_professores = 8\n",
        "if numero_de_alunos + numero_de_monitores + numero_de_professores <= 50:\n",
        "  resposta_positiva = \"pode ir\"\n",
        "resposta_negativa = \"não pode ir\"\n",
        "if numero_de_alunos + numero_de_monitores + numero_de_professores <= 50:\n",
        " print(resposta_positiva)\n",
        "else:\n",
        " print(resposta_negativa)\n"
      ],
      "metadata": {
        "colab": {
          "base_uri": "https://localhost:8080/"
        },
        "id": "09uhQ4p1yuDc",
        "outputId": "920dff13-8f30-4629-b79b-57d27eed621d"
      },
      "execution_count": null,
      "outputs": [
        {
          "output_type": "stream",
          "name": "stdout",
          "text": [
            "Digite a quantidade de alunos: 30\n",
            "Digite a quantidade de monitores: 10\n",
            "pode ir\n"
          ]
        }
      ]
    },
    {
      "cell_type": "markdown",
      "source": [
        "#Aula 4 ♈ ❤ ✉ ✈"
      ],
      "metadata": {
        "id": "euR7oeBz0cbe"
      }
    },
    {
      "cell_type": "code",
      "source": [
        "P = int(input(\"Digite a posição da porta P (0 ou 1): \"))\n",
        "R = int(input(\"Digite a posição da porta R (0 ou 1): \"))\n",
        "if P == 0:\n",
        "    print(\"C\")\n",
        "elif R == 1:\n",
        "    print(\"A\")\n",
        "else:\n",
        "    print(\"B\")\n",
        "\n"
      ],
      "metadata": {
        "colab": {
          "base_uri": "https://localhost:8080/"
        },
        "id": "rBWJCsqq2MQO",
        "outputId": "28ee83d8-7a54-4974-cd9d-0710a3ec6a5c"
      },
      "execution_count": null,
      "outputs": [
        {
          "output_type": "stream",
          "name": "stdout",
          "text": [
            "Digite a posição da porta P (0 ou 1): 1\n",
            "Digite a posição da porta R (0 ou 1): 0\n",
            "B\n"
          ]
        }
      ]
    },
    {
      "cell_type": "markdown",
      "source": [
        "#Aula **5** ✈ ⚖ ❤ Tabuada"
      ],
      "metadata": {
        "id": "rc-qHArc6uOR"
      }
    },
    {
      "cell_type": "code",
      "source": [
        "def tabuada(numero):\n",
        "    for contador in range(1, 11):  # Gera números de 1 a 10\n",
        "        print(f\"{numero} x {contador} = {numero * contador}\")\n",
        "numero = int(input(\"Digite um número para ver sua tabuada: \"))\n",
        "tabuada(numero)"
      ],
      "metadata": {
        "id": "XFBU_2e-8BAM",
        "outputId": "70cf38a4-a9e0-4344-924d-8479e95a9cb2",
        "colab": {
          "base_uri": "https://localhost:8080/"
        }
      },
      "execution_count": null,
      "outputs": [
        {
          "output_type": "stream",
          "name": "stdout",
          "text": [
            "Digite um número para ver sua tabuada: 6\n",
            "6 x 1 = 6\n",
            "6 x 2 = 12\n",
            "6 x 3 = 18\n",
            "6 x 4 = 24\n",
            "6 x 5 = 30\n",
            "6 x 6 = 36\n",
            "6 x 7 = 42\n",
            "6 x 8 = 48\n",
            "6 x 9 = 54\n",
            "6 x 10 = 60\n"
          ]
        }
      ]
    },
    {
      "cell_type": "markdown",
      "source": [
        "#Aula **6** IMC ✈ ⚖ ⛹"
      ],
      "metadata": {
        "id": "KLRNkbsi84Lg"
      }
    },
    {
      "cell_type": "code",
      "source": [
        "peso = float(input(\"Digite seu peso (em kg): \"))\n",
        "altura = float(input(\"Digite sua altura (em metros): \"))\n",
        "imc = peso / (altura ** 2)\n",
        "print(f\"\\nSeu IMC é: {imc:.2f}\")\n",
        "if imc < 18.5:\n",
        "    print(\"Você está abaixo do peso.\")\n",
        "elif 18.5 <= imc < 25:\n",
        "    print(\"Você está no peso ideal.\")\n",
        "elif 25 <= imc < 30:\n",
        "    print(\"Você está com sobrepeso.\")\n",
        "else:\n",
        "    print(\"Você está acima do peso.\")\n"
      ],
      "metadata": {
        "colab": {
          "base_uri": "https://localhost:8080/"
        },
        "id": "X2X9I5S_9Kjh",
        "outputId": "c8d490ce-5d72-46b7-e78d-d8640e019932"
      },
      "execution_count": null,
      "outputs": [
        {
          "output_type": "stream",
          "name": "stdout",
          "text": [
            "Digite seu peso (em kg): 85\n",
            "Digite sua altura (em metros): 168\n",
            "\n",
            "Seu IMC é: 0.00\n",
            "Você está abaixo do peso.\n"
          ]
        }
      ]
    },
    {
      "cell_type": "markdown",
      "source": [
        "** Aula 7** ❤ ❄ ✉"
      ],
      "metadata": {
        "id": "SYLmA4J62qHY"
      }
    },
    {
      "cell_type": "code",
      "source": [],
      "metadata": {
        "id": "5Oz5XTCu4Oam"
      },
      "execution_count": null,
      "outputs": []
    },
    {
      "cell_type": "code",
      "source": [
        "print (\"Sou seu assistente virtual, como posso ajudar? \\n \")\n",
        "nome = input(\"digite seu nome: \")\n",
        "print(\"Olá,\" + nome + \". Qual é a sua dúvida hoje?\")\n"
      ],
      "metadata": {
        "colab": {
          "base_uri": "https://localhost:8080/"
        },
        "id": "N7fuGbHn3Bsb",
        "outputId": "360c5c25-5637-4d14-b1e9-961b88c127df"
      },
      "execution_count": null,
      "outputs": [
        {
          "name": "stdout",
          "output_type": "stream",
          "text": [
            "Sou seu assistente virtual, como posso ajudar? \n",
            " \n",
            "digite seu nome: Joice \n"
          ]
        }
      ]
    },
    {
      "cell_type": "code",
      "source": [
        "print (\"Sou seu assistente virtual, como posso ajudar? \\n \")\n",
        "nome = input(\"digite seu nome: \")\n",
        "print(f\"Olá, {nome}. Qual é a sua dúvida hoje?\")\n",
        "resposta = input(\"Qual o assunto que deseja tratar: Matemática , PyThOn , Javascript \").lower()\n",
        "print(f\"Que bom, {nome}, vamos falar sobre {resposta}\")\n"
      ],
      "metadata": {
        "colab": {
          "base_uri": "https://localhost:8080/"
        },
        "id": "WEpzdNlY-WwF",
        "outputId": "b1f297ee-0db5-420f-87d0-f90fa3faa4de"
      },
      "execution_count": null,
      "outputs": [
        {
          "output_type": "stream",
          "name": "stdout",
          "text": [
            "Sou seu assistente virtual, como posso ajudar? \n",
            " \n",
            "digite seu nome: Joice\n",
            "Olá, Joice. Qual é a sua dúvida hoje?\n",
            "Qual o assunto que deseja tratar: Matemática , PyThOn , Javascript Matemática \n",
            "Que bom, Joice, vamos falar sobre matemática \n"
          ]
        }
      ]
    }
  ]
}